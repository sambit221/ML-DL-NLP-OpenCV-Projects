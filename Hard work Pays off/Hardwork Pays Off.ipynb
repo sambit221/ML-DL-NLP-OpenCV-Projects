{
 "cells": [
  {
   "cell_type": "markdown",
   "id": "f8fb7456",
   "metadata": {},
   "source": [
    "## Importing libraries"
   ]
  },
  {
   "cell_type": "code",
   "execution_count": 1,
   "id": "2881ec73",
   "metadata": {},
   "outputs": [],
   "source": [
    "import pandas as pd\n",
    "import numpy as np\n",
    "import matplotlib.pyplot as plt"
   ]
  },
  {
   "cell_type": "markdown",
   "id": "761b433a",
   "metadata": {},
   "source": [
    "## Load Data"
   ]
  },
  {
   "cell_type": "code",
   "execution_count": 2,
   "id": "04850166",
   "metadata": {},
   "outputs": [],
   "source": [
    "X = pd.read_csv('.\\Training data\\Linear_X_Train.csv')\n",
    "Y = pd.read_csv('.\\Training data\\Linear_Y_Train.csv')"
   ]
  },
  {
   "cell_type": "markdown",
   "id": "1bbd82e0",
   "metadata": {},
   "source": [
    "## Visualise Data"
   ]
  },
  {
   "cell_type": "code",
   "execution_count": 3,
   "id": "2d19595a",
   "metadata": {},
   "outputs": [
    {
     "data": {
      "image/png": "[encoded data removed]",
      "text/plain": [
       "<Figure size 576x396 with 1 Axes>"
      ]
     },
     "metadata": {},
     "output_type": "display_data"
    }
   ],
   "source": [
    "# x.shape, y.shape\n",
    "plt.style.use('seaborn')\n",
    "plt.scatter(X,Y, cmap=\"yellow\")\n",
    "plt.title(\"Hardwork vs marks\")\n",
    "plt.xlabel(\"Hardwork\")\n",
    "plt.ylabel(\"Marks\")\n",
    "plt.show()"
   ]
  },
  {
   "cell_type": "code",
   "execution_count": 4,
   "id": "231f0825",
   "metadata": {},
   "outputs": [
    {
     "data": {
      "text/plain": [
       "(pandas.core.frame.DataFrame, pandas.core.frame.DataFrame)"
      ]
     },
     "execution_count": 4,
     "metadata": {},
     "output_type": "execute_result"
    }
   ],
   "source": [
    "type(X),type(Y)"
   ]
  },
  {
   "cell_type": "markdown",
   "id": "0eddc0c8",
   "metadata": {},
   "source": [
    "As they are pandas dataframe we are converting to numpy array."
   ]
  },
  {
   "cell_type": "code",
   "execution_count": 5,
   "id": "a10c2be3",
   "metadata": {},
   "outputs": [
    {
     "name": "stdout",
     "output_type": "stream",
     "text": [
      "<class 'numpy.ndarray'>\n",
      "<class 'numpy.ndarray'>\n"
     ]
    }
   ],
   "source": [
    "# Converting x,y to numpy arrays\n",
    "X = X.values\n",
    "Y = Y.values\n",
    "\n",
    "print(type(X))\n",
    "print(type(Y))"
   ]
  },
  {
   "cell_type": "markdown",
   "id": "c79d471f",
   "metadata": {},
   "source": [
    "## Normalisation"
   ]
  },
  {
   "cell_type": "code",
   "execution_count": 6,
   "id": "b33a578e",
   "metadata": {},
   "outputs": [
    {
     "name": "stdout",
     "output_type": "stream",
     "text": [
      "-0.03779466168006854 0.9920801322508517\n"
     ]
    }
   ],
   "source": [
    "u = X.mean()\n",
    "std = X.std()\n",
    "print(u,std) # std is about 1 means its almost normalised but still we are processing on it a little"
   ]
  },
  {
   "cell_type": "markdown",
   "id": "81e1ac37",
   "metadata": {},
   "source": [
    "## Linear Regression"
   ]
  },
  {
   "cell_type": "code",
   "execution_count": 7,
   "id": "f3c870b2",
   "metadata": {},
   "outputs": [],
   "source": [
    "def hypothesis(x,theta):    # theta = [theta0,theta1]\n",
    "    y_ = theta[0] + theta[1]*x  # y_ means y hat \n",
    "    return y_\n",
    "\n",
    "def gradient(x,y,theta):    #x,y represents entire dataset\n",
    "    m = x.shape[0]          # m is the no of data points, to make 3750 not (3750,1) \n",
    "    grad = np.zeros((2,))   # initial gradient value is zero\n",
    "    for i in range(m):\n",
    "        x = X[i]\n",
    "        y_ = hypothesis(x,theta)\n",
    "        y = Y[i]              # to make y = 3750 not (3750,1)\n",
    "        grad[0] += (y_ - y)   # grad for theta0\n",
    "        grad[1] += (y_ - y)*x  # grad for theta1\n",
    "        \n",
    "    return grad/m\n",
    "        \n",
    "        "
   ]
  },
  {
   "cell_type": "code",
   "execution_count": 8,
   "id": "9deaaca8",
   "metadata": {},
   "outputs": [],
   "source": [
    "def error(X, Y, theta):  # calculates diff between predicted and actual value\n",
    "    m = X.shape[0]\n",
    "    total_error=0.0\n",
    "    for i in range(m):\n",
    "        y_= hypothesis(X[i],theta)\n",
    "        total_error += (y_ - Y[i])**2\n",
    "        \n",
    "    return total_error/m\n",
    "\n",
    "\n",
    "\n",
    "def gradientDescent (X,Y,max_steps=100,learning_rate=0.1):\n",
    "    theta=np.zeros((2,))\n",
    "    error_list = []\n",
    "    for i in range(max_steps):\n",
    "        \n",
    "        #compute grad\n",
    "        grad = gradient(X,Y,theta)\n",
    "        e = error(X,Y,theta)\n",
    "        error_list.append(e)\n",
    "        #update theta\n",
    "        theta[0] = theta[0] - learning_rate*grad[0]\n",
    "        theta[1] = theta[1] - learning_rate*grad[1]\n",
    "        \n",
    "    return theta,error_list"
   ]
  },
  {
   "cell_type": "code",
   "execution_count": 9,
   "id": "90ab7e90",
   "metadata": {},
   "outputs": [],
   "source": [
    "theta,error_list = gradientDescent(X,Y)"
   ]
  },
  {
   "cell_type": "code",
   "execution_count": 14,
   "id": "fc46f105",
   "metadata": {},
   "outputs": [],
   "source": [
    "# theta\n"
   ]
  },
  {
   "cell_type": "code",
   "execution_count": 15,
   "id": "9e0bb0ee",
   "metadata": {},
   "outputs": [],
   "source": [
    "# error_list"
   ]
  },
  {
   "cell_type": "code",
   "execution_count": 12,
   "id": "53cc6dc9",
   "metadata": {},
   "outputs": [
    {
     "data": {
      "text/plain": [
       "Text(0.5, 1.0, 'Reduction error over epochs')"
      ]
     },
     "execution_count": 12,
     "metadata": {},
     "output_type": "execute_result"
    },
    {
     "data": {
      "image/png": "[encoded data removed]",
      "text/plain": [
       "<Figure size 576x396 with 1 Axes>"
      ]
     },
     "metadata": {},
     "output_type": "display_data"
    }
   ],
   "source": [
    "plt.plot(error_list)\n",
    "plt.title(\"Reduction error over epochs\")"
   ]
  },
  {
   "cell_type": "markdown",
   "id": "aee8eb04",
   "metadata": {},
   "source": [
    "## Prediction and Best Line"
   ]
  },
  {
   "cell_type": "code",
   "execution_count": 13,
   "id": "a7749840",
   "metadata": {},
   "outputs": [],
   "source": [
    "y_ = hypothesis(X,theta)"
   ]
  },
  {
   "cell_type": "code",
   "execution_count": 17,
   "id": "b4b66abe",
   "metadata": {},
   "outputs": [
    {
     "data": {
      "image/png": "[encoded data removed]",
      "text/plain": [
       "<Figure size 576x396 with 1 Axes>"
      ]
     },
     "metadata": {},
     "output_type": "display_data"
    }
   ],
   "source": [
    "plt.scatter(X,Y) # plotting training dataset\n",
    "plt.plot(X,y_,color=\"red\",label=\"prediction\") # predicted line\n",
    "plt.legend() \n",
    "plt.show()"
   ]
  },
  {
   "cell_type": "code",
   "execution_count": 21,
   "id": "ad09d072",
   "metadata": {},
   "outputs": [],
   "source": [
    "# loading the test data\n",
    "\n",
    "# .values is to convert it into numpy array\n",
    "X_test = pd.read_csv('Linear_X_Test.csv').values # test dataset\n",
    "Y_test = hypothesis (X_test,theta) # actual output if test data is passed"
   ]
  },
  {
   "cell_type": "code",
   "execution_count": 27,
   "id": "310ac48c",
   "metadata": {},
   "outputs": [],
   "source": [
    "df = pd.DataFrame(data=Y_test,columns=[\"y\"])\n",
    "    "
   ]
  },
  {
   "cell_type": "code",
   "execution_count": 29,
   "id": "97104c9c",
   "metadata": {},
   "outputs": [],
   "source": [
    "df.to_csv('y_prediction.csv',index=False)"
   ]
  },
  {
   "cell_type": "code",
   "execution_count": null,
   "id": "b137531f",
   "metadata": {},
   "outputs": [],
   "source": []
  }
 ],
 "metadata": {
  "kernelspec": {
   "display_name": "Python 3",
   "language": "python",
   "name": "python3"
  },
  "language_info": {
   "codemirror_mode": {
    "name": "ipython",
    "version": 3
   },
   "file_extension": ".py",
   "mimetype": "text/x-python",
   "name": "python",
   "nbconvert_exporter": "python",
   "pygments_lexer": "ipython3",
   "version": "3.8.7"
  }
 },
 "nbformat": 4,
 "nbformat_minor": 5
}
