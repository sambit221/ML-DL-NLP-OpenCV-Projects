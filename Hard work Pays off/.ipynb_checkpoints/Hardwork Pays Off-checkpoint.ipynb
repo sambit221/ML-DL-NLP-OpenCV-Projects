{
 "cells": [
  {
   "cell_type": "markdown",
   "id": "f8fb7456",
   "metadata": {},
   "source": [
    "## Import"
   ]
  },
  {
   "cell_type": "code",
   "execution_count": 19,
   "id": "2881ec73",
   "metadata": {},
   "outputs": [],
   "source": [
    "import pandas as pd\n",
    "import numpy as np\n",
    "import matplotlib.pyplot as plt"
   ]
  },
  {
   "cell_type": "markdown",
   "id": "761b433a",
   "metadata": {},
   "source": [
    "## Load Data"
   ]
  },
  {
   "cell_type": "code",
   "execution_count": 20,
   "id": "04850166",
   "metadata": {},
   "outputs": [],
   "source": [
    "x = pd.read_csv('.\\Training data\\Linear_X_Train.csv')\n",
    "y = pd.read_csv('.\\Training data\\Linear_Y_Train.csv')"
   ]
  },
  {
   "cell_type": "markdown",
   "id": "1bbd82e0",
   "metadata": {},
   "source": [
    "## Visualise Data"
   ]
  },
  {
   "cell_type": "code",
   "execution_count": 21,
   "id": "2d19595a",
   "metadata": {},
   "outputs": [
    {
     "data": {
      "image/png": "[encoded data removed]",
      "text/plain": [
       "<Figure size 576x396 with 1 Axes>"
      ]
     },
     "metadata": {},
     "output_type": "display_data"
    }
   ],
   "source": [
    "# x.shape, y.shape\n",
    "plt.style.use('seaborn')\n",
    "plt.scatter(x,y, cmap=\"yellow\")\n",
    "plt.title(\"Hardwork vs marks\")\n",
    "plt.xlabel(\"Hardwork\")\n",
    "plt.ylabel(\"Marks\")\n",
    "plt.show()"
   ]
  },
  {
   "cell_type": "code",
   "execution_count": 22,
   "id": "231f0825",
   "metadata": {},
   "outputs": [
    {
     "data": {
      "text/plain": [
       "(pandas.core.frame.DataFrame, pandas.core.frame.DataFrame)"
      ]
     },
     "execution_count": 22,
     "metadata": {},
     "output_type": "execute_result"
    }
   ],
   "source": [
    "type(x),type(y)"
   ]
  },
  {
   "cell_type": "markdown",
   "id": "0eddc0c8",
   "metadata": {},
   "source": [
    "As they are pandas dataframe we are converting to numpy array."
   ]
  },
  {
   "cell_type": "code",
   "execution_count": 23,
   "id": "a10c2be3",
   "metadata": {},
   "outputs": [
    {
     "name": "stdout",
     "output_type": "stream",
     "text": [
      "<class 'numpy.ndarray'>\n",
      "<class 'numpy.ndarray'>\n"
     ]
    }
   ],
   "source": [
    "# Converting x,y to numpy arrays\n",
    "x = x.values\n",
    "y = y.values\n",
    "\n",
    "print(type(x))\n",
    "print(type(y))"
   ]
  },
  {
   "cell_type": "markdown",
   "id": "c79d471f",
   "metadata": {},
   "source": [
    "## Normalisation"
   ]
  },
  {
   "cell_type": "code",
   "execution_count": 24,
   "id": "b33a578e",
   "metadata": {},
   "outputs": [
    {
     "name": "stdout",
     "output_type": "stream",
     "text": [
      "-0.03779466168006854 0.9920801322508517\n"
     ]
    }
   ],
   "source": [
    "u = x.mean()\n",
    "std = x.std()\n",
    "print(u,std) # std is about 1 means its almost normalised but still we are processing on it a little"
   ]
  },
  {
   "cell_type": "markdown",
   "id": "81e1ac37",
   "metadata": {},
   "source": [
    "## Linear Regression"
   ]
  },
  {
   "cell_type": "code",
   "execution_count": null,
   "id": "f3c870b2",
   "metadata": {},
   "outputs": [],
   "source": [
    "def hypothesis(x,theta): # theta = [theta0,theta1]\n",
    "    y_ = theta0 + theta1*x\n",
    "    return y_\n",
    "\n",
    "def gradient(x,y,theta): #x,y represents entire dataset\n",
    "    m = x.shape[0] # to make 3750 not (3750,1)\n",
    "    grad = np.zeros((2,))"
   ]
  }
 ],
 "metadata": {
  "kernelspec": {
   "display_name": "Python 3",
   "language": "python",
   "name": "python3"
  },
  "language_info": {
   "codemirror_mode": {
    "name": "ipython",
    "version": 3
   },
   "file_extension": ".py",
   "mimetype": "text/x-python",
   "name": "python",
   "nbconvert_exporter": "python",
   "pygments_lexer": "ipython3",
   "version": "3.8.7"
  }
 },
 "nbformat": 4,
 "nbformat_minor": 5
}
