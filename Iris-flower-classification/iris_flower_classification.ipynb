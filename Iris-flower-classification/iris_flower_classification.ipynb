{
 "cells": [
  {
   "cell_type": "markdown",
   "metadata": {
    "id": "bhcPtq4Wkww3"
   },
   "source": [
    "Importing libraries"
   ]
  },
  {
   "cell_type": "code",
   "execution_count": 1,
   "metadata": {
    "executionInfo": {
     "elapsed": 1116,
     "status": "ok",
     "timestamp": 1613276753642,
     "user": {
      "displayName": "Sambit Kumar Tripathy",
      "photoUrl": "https://lh3.googleusercontent.com/a-/AOh14GjKOv4wZdU1iNStUQvDp4NfaBaef338YlvqSIuBZQ=s64",
      "userId": "03127324331283095979"
     },
     "user_tz": -330
    },
    "id": "LvO76tTWfw-k"
   },
   "outputs": [],
   "source": [
    "import pandas as pd\n",
    "import numpy as np"
   ]
  },
  {
   "cell_type": "markdown",
   "metadata": {
    "id": "MftOA1a3k3FW"
   },
   "source": [
    "## Exploring the data"
   ]
  },
  {
   "cell_type": "code",
   "execution_count": 2,
   "metadata": {
    "executionInfo": {
     "elapsed": 1405,
     "status": "ok",
     "timestamp": 1613276755883,
     "user": {
      "displayName": "Sambit Kumar Tripathy",
      "photoUrl": "https://lh3.googleusercontent.com/a-/AOh14GjKOv4wZdU1iNStUQvDp4NfaBaef338YlvqSIuBZQ=s64",
      "userId": "03127324331283095979"
     },
     "user_tz": -330
    },
    "id": "6MPRB9_OhAxx"
   },
   "outputs": [],
   "source": [
    "from sklearn.datasets import load_iris\n",
    "iris_dataset = load_iris()"
   ]
  },
  {
   "cell_type": "markdown",
   "metadata": {
    "id": "hMEjSvxQlEDn"
   },
   "source": [
    "* printing keys of the dataset"
   ]
  },
  {
   "cell_type": "code",
   "execution_count": 3,
   "metadata": {
    "colab": {
     "base_uri": "https://localhost:8080/"
    },
    "executionInfo": {
     "elapsed": 1458,
     "status": "ok",
     "timestamp": 1613276758854,
     "user": {
      "displayName": "Sambit Kumar Tripathy",
      "photoUrl": "https://lh3.googleusercontent.com/a-/AOh14GjKOv4wZdU1iNStUQvDp4NfaBaef338YlvqSIuBZQ=s64",
      "userId": "03127324331283095979"
     },
     "user_tz": -330
    },
    "id": "Rn9LuD2vh4pX",
    "outputId": "5f3c67f1-9204-4b4d-fb1c-be2950d6ed65"
   },
   "outputs": [
    {
     "name": "stdout",
     "output_type": "stream",
     "text": [
      "Keys of iris dataset: \n",
      "dict_keys(['data', 'target', 'target_names', 'DESCR', 'feature_names', 'filename'])\n"
     ]
    }
   ],
   "source": [
    "print(\"Keys of iris dataset: \\n{}\".format(iris_dataset.keys()))"
   ]
  },
  {
   "cell_type": "markdown",
   "metadata": {
    "id": "RMx0WjQSomfO"
   },
   "source": [
    "* The value of the key DESCR is a short description of the dataset, as follows"
   ]
  },
  {
   "cell_type": "code",
   "execution_count": 4,
   "metadata": {
    "colab": {
     "base_uri": "https://localhost:8080/"
    },
    "executionInfo": {
     "elapsed": 814,
     "status": "ok",
     "timestamp": 1613276760293,
     "user": {
      "displayName": "Sambit Kumar Tripathy",
      "photoUrl": "https://lh3.googleusercontent.com/a-/AOh14GjKOv4wZdU1iNStUQvDp4NfaBaef338YlvqSIuBZQ=s64",
      "userId": "03127324331283095979"
     },
     "user_tz": -330
    },
    "id": "Z2G20l-0lLQX",
    "outputId": "c19b4e74-9efc-4438-d5d0-264b76aae7c8"
   },
   "outputs": [
    {
     "name": "stdout",
     "output_type": "stream",
     "text": [
      ".. _iris_dataset:\n",
      "\n",
      "Iris plants dataset\n",
      "--------------------\n",
      "\n",
      "**Data Set Characteristics:**\n",
      "\n",
      "    :Number of Instances: 150 (50 in each of three classes)\n",
      "    :Number of Attributes: 4 numeric, predictive\n",
      "...\n"
     ]
    }
   ],
   "source": [
    "val = iris_dataset['DESCR']\n",
    "start_val = val[:200]     # slicing the string\n",
    "print(start_val + \"\\n...\")"
   ]
  },
  {
   "cell_type": "markdown",
   "metadata": {
    "id": "7yr1VaaTyJLc"
   },
   "source": [
    "* Target names are the targets to which the data is to be classified"
   ]
  },
  {
   "cell_type": "code",
   "execution_count": 5,
   "metadata": {
    "colab": {
     "base_uri": "https://localhost:8080/"
    },
    "executionInfo": {
     "elapsed": 1098,
     "status": "ok",
     "timestamp": 1613276762759,
     "user": {
      "displayName": "Sambit Kumar Tripathy",
      "photoUrl": "https://lh3.googleusercontent.com/a-/AOh14GjKOv4wZdU1iNStUQvDp4NfaBaef338YlvqSIuBZQ=s64",
      "userId": "03127324331283095979"
     },
     "user_tz": -330
    },
    "id": "Dc87s7CZnFP3",
    "outputId": "237107b5-dbe2-493a-9b3e-93a15fe6110c"
   },
   "outputs": [
    {
     "name": "stdout",
     "output_type": "stream",
     "text": [
      "Target names: ['setosa' 'versicolor' 'virginica']\n"
     ]
    }
   ],
   "source": [
    "print(\"Target names: {}\".format(iris_dataset['target_names']))"
   ]
  },
  {
   "cell_type": "markdown",
   "metadata": {
    "id": "ioS9VdGxyWUP"
   },
   "source": [
    "* Features are the parameters of classification (these data are taken)"
   ]
  },
  {
   "cell_type": "code",
   "execution_count": 6,
   "metadata": {
    "colab": {
     "base_uri": "https://localhost:8080/"
    },
    "executionInfo": {
     "elapsed": 789,
     "status": "ok",
     "timestamp": 1613276764379,
     "user": {
      "displayName": "Sambit Kumar Tripathy",
      "photoUrl": "https://lh3.googleusercontent.com/a-/AOh14GjKOv4wZdU1iNStUQvDp4NfaBaef338YlvqSIuBZQ=s64",
      "userId": "03127324331283095979"
     },
     "user_tz": -330
    },
    "id": "gj461DsQpOPn",
    "outputId": "3a7fb746-f228-4553-c97d-087aef559eff"
   },
   "outputs": [
    {
     "name": "stdout",
     "output_type": "stream",
     "text": [
      "Feature names: ['sepal length (cm)', 'sepal width (cm)', 'petal length (cm)', 'petal width (cm)']\n"
     ]
    }
   ],
   "source": [
    "print(\"Feature names: {}\".format(iris_dataset['feature_names']))"
   ]
  },
  {
   "cell_type": "markdown",
   "metadata": {
    "id": "zlnzwxs8ytcZ"
   },
   "source": [
    "* Type of data is how the data is stored.\n",
    "In this case it is stored as numpy ndarray."
   ]
  },
  {
   "cell_type": "code",
   "execution_count": 7,
   "metadata": {
    "colab": {
     "base_uri": "https://localhost:8080/"
    },
    "executionInfo": {
     "elapsed": 1219,
     "status": "ok",
     "timestamp": 1613276766526,
     "user": {
      "displayName": "Sambit Kumar Tripathy",
      "photoUrl": "https://lh3.googleusercontent.com/a-/AOh14GjKOv4wZdU1iNStUQvDp4NfaBaef338YlvqSIuBZQ=s64",
      "userId": "03127324331283095979"
     },
     "user_tz": -330
    },
    "id": "2ZDlnwbHwimg",
    "outputId": "39fd18a4-27f6-4f05-de0f-0aea5b57d221"
   },
   "outputs": [
    {
     "name": "stdout",
     "output_type": "stream",
     "text": [
      "Type of data: <class 'numpy.ndarray'>\n"
     ]
    }
   ],
   "source": [
    "print(\"Type of data: {}\".format(type(iris_dataset['data'])))"
   ]
  },
  {
   "cell_type": "markdown",
   "metadata": {
    "id": "iMC-IyYVy8uF"
   },
   "source": [
    "* Shape of data gives an idea about data points and features(no of rows and columns the data have)."
   ]
  },
  {
   "cell_type": "code",
   "execution_count": 8,
   "metadata": {
    "colab": {
     "base_uri": "https://localhost:8080/"
    },
    "executionInfo": {
     "elapsed": 1197,
     "status": "ok",
     "timestamp": 1613276767962,
     "user": {
      "displayName": "Sambit Kumar Tripathy",
      "photoUrl": "https://lh3.googleusercontent.com/a-/AOh14GjKOv4wZdU1iNStUQvDp4NfaBaef338YlvqSIuBZQ=s64",
      "userId": "03127324331283095979"
     },
     "user_tz": -330
    },
    "id": "3WUnDBEbxFn1",
    "outputId": "ae90a276-ac96-41e3-cf43-954802d3e6a3"
   },
   "outputs": [
    {
     "name": "stdout",
     "output_type": "stream",
     "text": [
      "Shape of data: (150, 4)\n"
     ]
    }
   ],
   "source": [
    "print(\"Shape of data: {}\".format(iris_dataset['data'].shape))"
   ]
  },
  {
   "cell_type": "markdown",
   "metadata": {
    "id": "I9D5ESmA-KZB"
   },
   "source": [
    "* Features for first five samples(data points) \n",
    "Here we are just slicing the 2d numpy array"
   ]
  },
  {
   "cell_type": "code",
   "execution_count": 9,
   "metadata": {
    "colab": {
     "base_uri": "https://localhost:8080/"
    },
    "executionInfo": {
     "elapsed": 1339,
     "status": "ok",
     "timestamp": 1613276770624,
     "user": {
      "displayName": "Sambit Kumar Tripathy",
      "photoUrl": "https://lh3.googleusercontent.com/a-/AOh14GjKOv4wZdU1iNStUQvDp4NfaBaef338YlvqSIuBZQ=s64",
      "userId": "03127324331283095979"
     },
     "user_tz": -330
    },
    "id": "tklO4_tx-K44",
    "outputId": "de2602c1-c121-4563-a4c6-9ff6e2739f53"
   },
   "outputs": [
    {
     "name": "stdout",
     "output_type": "stream",
     "text": [
      "First five columns of data: \n",
      "[[5.1 3.5 1.4 0.2]\n",
      " [4.9 3.  1.4 0.2]\n",
      " [4.7 3.2 1.3 0.2]\n",
      " [4.6 3.1 1.5 0.2]\n",
      " [5.  3.6 1.4 0.2]]\n"
     ]
    }
   ],
   "source": [
    "print(\"First five columns of data: \\n{}\".format(iris_dataset['data'][:5]))"
   ]
  },
  {
   "cell_type": "code",
   "execution_count": 10,
   "metadata": {
    "colab": {
     "base_uri": "https://localhost:8080/"
    },
    "executionInfo": {
     "elapsed": 1089,
     "status": "ok",
     "timestamp": 1613276772465,
     "user": {
      "displayName": "Sambit Kumar Tripathy",
      "photoUrl": "https://lh3.googleusercontent.com/a-/AOh14GjKOv4wZdU1iNStUQvDp4NfaBaef338YlvqSIuBZQ=s64",
      "userId": "03127324331283095979"
     },
     "user_tz": -330
    },
    "id": "ARGQQ4vY_jVN",
    "outputId": "0d67bbe8-fb94-4ec4-91e7-0c934df358c2"
   },
   "outputs": [
    {
     "name": "stdout",
     "output_type": "stream",
     "text": [
      "Type of target : <class 'numpy.ndarray'>\n"
     ]
    }
   ],
   "source": [
    "print(\"Type of target : {}\".format(type(iris_dataset['target'])))"
   ]
  },
  {
   "cell_type": "code",
   "execution_count": 11,
   "metadata": {
    "colab": {
     "base_uri": "https://localhost:8080/"
    },
    "executionInfo": {
     "elapsed": 1111,
     "status": "ok",
     "timestamp": 1613276775230,
     "user": {
      "displayName": "Sambit Kumar Tripathy",
      "photoUrl": "https://lh3.googleusercontent.com/a-/AOh14GjKOv4wZdU1iNStUQvDp4NfaBaef338YlvqSIuBZQ=s64",
      "userId": "03127324331283095979"
     },
     "user_tz": -330
    },
    "id": "paP_Wl_6Af8Y",
    "outputId": "4341ca0c-eafc-43f1-dd66-29fd8091e94e"
   },
   "outputs": [
    {
     "name": "stdout",
     "output_type": "stream",
     "text": [
      "Shape of target : (150,)\n"
     ]
    }
   ],
   "source": [
    "print(\"Shape of target : {}\".format(iris_dataset['target'].shape))"
   ]
  },
  {
   "cell_type": "markdown",
   "metadata": {
    "id": "BeR0pM6o0eol"
   },
   "source": [
    "Using train_test_split we are spliting the entire data. X_train contains 75% of the rows and X_test contains the remaining. Here y denotes labels.\n"
   ]
  },
  {
   "cell_type": "code",
   "execution_count": 12,
   "metadata": {
    "executionInfo": {
     "elapsed": 1232,
     "status": "ok",
     "timestamp": 1613276777585,
     "user": {
      "displayName": "Sambit Kumar Tripathy",
      "photoUrl": "https://lh3.googleusercontent.com/a-/AOh14GjKOv4wZdU1iNStUQvDp4NfaBaef338YlvqSIuBZQ=s64",
      "userId": "03127324331283095979"
     },
     "user_tz": -330
    },
    "id": "y-Bpqv7cCUSq"
   },
   "outputs": [],
   "source": [
    "from sklearn.model_selection import train_test_split\n",
    "X_train, X_test, y_train, y_test = train_test_split(\n",
    "    iris_dataset['data'], iris_dataset['target'], random_state = 0)"
   ]
  },
  {
   "cell_type": "markdown",
   "metadata": {
    "id": "zEOj3LYr14wR"
   },
   "source": [
    "Lets see the dataset after dividing into training and testing dataset."
   ]
  },
  {
   "cell_type": "code",
   "execution_count": 13,
   "metadata": {
    "colab": {
     "base_uri": "https://localhost:8080/"
    },
    "executionInfo": {
     "elapsed": 1475,
     "status": "ok",
     "timestamp": 1613277792883,
     "user": {
      "displayName": "Sambit Kumar Tripathy",
      "photoUrl": "https://lh3.googleusercontent.com/a-/AOh14GjKOv4wZdU1iNStUQvDp4NfaBaef338YlvqSIuBZQ=s64",
      "userId": "03127324331283095979"
     },
     "user_tz": -330
    },
    "id": "JVY3OkUVxzyg",
    "outputId": "eff0fbe8-21b5-418b-e571-ad5cc446ddbf"
   },
   "outputs": [
    {
     "name": "stdout",
     "output_type": "stream",
     "text": [
      "X_train shape: (112, 4)\n",
      "y_train shape: (112,)\n",
      "X_test shape: (38, 4)\n",
      "y_test shape: (38,)\n"
     ]
    }
   ],
   "source": [
    "print(\"X_train shape: {}\".format(X_train.shape))\n",
    "print(\"y_train shape: {}\".format(y_train.shape))\n",
    "print(\"X_test shape: {}\".format(X_test.shape))\n",
    "print(\"y_test shape: {}\".format(y_test.shape))"
   ]
  },
  {
   "cell_type": "markdown",
   "metadata": {
    "id": "k5_qkCTH_kwy"
   },
   "source": [
    "* This is the k nearest neighbours machine learning model.\n",
    "* Here we are using k nearest neighbour classification algorithm in the KNeighborsClassifier class in the neighbours module. \n",
    "Before we can use model, we need to instantiate the class into an object."
   ]
  },
  {
   "cell_type": "code",
   "execution_count": 16,
   "metadata": {
    "executionInfo": {
     "elapsed": 1035,
     "status": "ok",
     "timestamp": 1613281261538,
     "user": {
      "displayName": "Sambit Kumar Tripathy",
      "photoUrl": "https://lh3.googleusercontent.com/a-/AOh14GjKOv4wZdU1iNStUQvDp4NfaBaef338YlvqSIuBZQ=s64",
      "userId": "03127324331283095979"
     },
     "user_tz": -330
    },
    "id": "NiKpoG_U_qiJ"
   },
   "outputs": [],
   "source": [
    "from sklearn.neighbors import KNeighborsClassifier\n",
    "knn = KNeighborsClassifier(n_neighbors=1)"
   ]
  },
  {
   "cell_type": "markdown",
   "metadata": {
    "id": "uhnzQhG7DrAI"
   },
   "source": [
    "Training the entire model using training data\n",
    "* Fit the entire k nearest neighbour classification algorithm to the X_train, y_train values"
   ]
  },
  {
   "cell_type": "code",
   "execution_count": 17,
   "metadata": {
    "colab": {
     "base_uri": "https://localhost:8080/"
    },
    "executionInfo": {
     "elapsed": 1223,
     "status": "ok",
     "timestamp": 1613281472892,
     "user": {
      "displayName": "Sambit Kumar Tripathy",
      "photoUrl": "https://lh3.googleusercontent.com/a-/AOh14GjKOv4wZdU1iNStUQvDp4NfaBaef338YlvqSIuBZQ=s64",
      "userId": "03127324331283095979"
     },
     "user_tz": -330
    },
    "id": "fQJcZXmQEQx3",
    "outputId": "9b0603a2-483e-47f2-c322-b7c08d70af59"
   },
   "outputs": [
    {
     "data": {
      "text/plain": [
       "KNeighborsClassifier(algorithm='auto', leaf_size=30, metric='minkowski',\n",
       "                     metric_params=None, n_jobs=None, n_neighbors=1, p=2,\n",
       "                     weights='uniform')"
      ]
     },
     "execution_count": 17,
     "metadata": {
      "tags": []
     },
     "output_type": "execute_result"
    }
   ],
   "source": [
    "knn.fit(X_train, y_train)"
   ]
  },
  {
   "cell_type": "markdown",
   "metadata": {
    "id": "ybghdmRhEory"
   },
   "source": [
    "Making Predictions "
   ]
  },
  {
   "cell_type": "code",
   "execution_count": 19,
   "metadata": {
    "colab": {
     "base_uri": "https://localhost:8080/"
    },
    "executionInfo": {
     "elapsed": 1263,
     "status": "ok",
     "timestamp": 1613281810089,
     "user": {
      "displayName": "Sambit Kumar Tripathy",
      "photoUrl": "https://lh3.googleusercontent.com/a-/AOh14GjKOv4wZdU1iNStUQvDp4NfaBaef338YlvqSIuBZQ=s64",
      "userId": "03127324331283095979"
     },
     "user_tz": -330
    },
    "id": "tb4cT0yFEtSR",
    "outputId": "723b1733-7f6f-4483-dd37-d603f98c0f26"
   },
   "outputs": [
    {
     "name": "stdout",
     "output_type": "stream",
     "text": [
      "X_new.shape: (1, 4)\n"
     ]
    }
   ],
   "source": [
    "X_new = np.array([[5, 2.9, 1, 0.2]])\n",
    "\n",
    "print(\"X_new.shape: {}\".format(X_new.shape))"
   ]
  },
  {
   "cell_type": "code",
   "execution_count": 20,
   "metadata": {
    "colab": {
     "base_uri": "https://localhost:8080/"
    },
    "executionInfo": {
     "elapsed": 1676,
     "status": "ok",
     "timestamp": 1613282074194,
     "user": {
      "displayName": "Sambit Kumar Tripathy",
      "photoUrl": "https://lh3.googleusercontent.com/a-/AOh14GjKOv4wZdU1iNStUQvDp4NfaBaef338YlvqSIuBZQ=s64",
      "userId": "03127324331283095979"
     },
     "user_tz": -330
    },
    "id": "8UEwuNJpFxWo",
    "outputId": "0f837d9f-68e0-4dda-ca0f-79d87582dca7"
   },
   "outputs": [
    {
     "name": "stdout",
     "output_type": "stream",
     "text": [
      "Prediction: [0]\n",
      "Predicted target name: ['setosa']\n"
     ]
    }
   ],
   "source": [
    "prediction = knn.predict(X_new)\n",
    "\n",
    "print(\"Prediction: {}\".format(prediction))\n",
    "print(\"Predicted target name: {}\".format(\n",
    "    iris_dataset['target_names'][prediction]))"
   ]
  },
  {
   "cell_type": "markdown",
   "metadata": {
    "id": "u796Mv2SKYem"
   },
   "source": [
    "## Evaluating the model\n",
    "predicting the output for entire test dataset"
   ]
  },
  {
   "cell_type": "code",
   "execution_count": 21,
   "metadata": {
    "colab": {
     "base_uri": "https://localhost:8080/"
    },
    "executionInfo": {
     "elapsed": 1057,
     "status": "ok",
     "timestamp": 1613282360280,
     "user": {
      "displayName": "Sambit Kumar Tripathy",
      "photoUrl": "https://lh3.googleusercontent.com/a-/AOh14GjKOv4wZdU1iNStUQvDp4NfaBaef338YlvqSIuBZQ=s64",
      "userId": "03127324331283095979"
     },
     "user_tz": -330
    },
    "id": "hok5x0DhHN40",
    "outputId": "2e61c9af-5e07-46ba-f7f4-8d0e4b2180ef"
   },
   "outputs": [
    {
     "name": "stdout",
     "output_type": "stream",
     "text": [
      "Test set predictions: \n",
      " [2 1 0 2 0 2 0 1 1 1 2 1 1 1 1 0 1 1 0 0 2 1 0 0 2 0 0 1 1 0 2 1 0 2 2 1 0\n",
      " 2]\n"
     ]
    }
   ],
   "source": [
    "y_pred = knn.predict(X_test)\n",
    "print(\"Test set predictions: \\n {}\".format(y_pred))"
   ]
  },
  {
   "cell_type": "markdown",
   "metadata": {
    "id": "-CBBPrtIKJTR"
   },
   "source": [
    "Checking the accuracy of the model."
   ]
  },
  {
   "cell_type": "code",
   "execution_count": 22,
   "metadata": {
    "colab": {
     "base_uri": "https://localhost:8080/"
    },
    "executionInfo": {
     "elapsed": 1187,
     "status": "ok",
     "timestamp": 1613282608072,
     "user": {
      "displayName": "Sambit Kumar Tripathy",
      "photoUrl": "https://lh3.googleusercontent.com/a-/AOh14GjKOv4wZdU1iNStUQvDp4NfaBaef338YlvqSIuBZQ=s64",
      "userId": "03127324331283095979"
     },
     "user_tz": -330
    },
    "id": "Naq0nxlxIHrn",
    "outputId": "5a188792-cfc2-4391-fd34-9194d9978269"
   },
   "outputs": [
    {
     "name": "stdout",
     "output_type": "stream",
     "text": [
      "Test set score: 0.9736842105263158\n"
     ]
    }
   ],
   "source": [
    "print(\"Test set score: {}\".format(np.mean(y_pred == y_test)))"
   ]
  },
  {
   "cell_type": "markdown",
   "metadata": {
    "id": "c-7Qi7hrLH1g"
   },
   "source": [
    "We got an accuracy of 0.9736842105263158"
   ]
  }
 ],
 "metadata": {
  "colab": {
   "authorship_tag": "ABX9TyMXEyASdBbhhNIrZdPWkmEJ",
   "collapsed_sections": [],
   "name": "Copy of Sambit_Kumar_Tripathy.ipynb",
   "provenance": [
    {
     "file_id": "1exBkaQnGgdVr--0-6ggqeL3Wh_pz5EaO",
     "timestamp": 1613283338213
    }
   ]
  },
  "kernelspec": {
   "display_name": "Python 3",
   "language": "python",
   "name": "python3"
  },
  "language_info": {
   "codemirror_mode": {
    "name": "ipython",
    "version": 3
   },
   "file_extension": ".py",
   "mimetype": "text/x-python",
   "name": "python",
   "nbconvert_exporter": "python",
   "pygments_lexer": "ipython3",
   "version": "3.8.5"
  }
 },
 "nbformat": 4,
 "nbformat_minor": 1
}
